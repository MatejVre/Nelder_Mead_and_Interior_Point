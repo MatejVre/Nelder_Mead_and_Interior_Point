{
 "cells": [
  {
   "cell_type": "code",
   "execution_count": 67,
   "id": "3c54d30e",
   "metadata": {},
   "outputs": [],
   "source": [
    "import numpy as np\n",
    "from scipy.optimize import linprog"
   ]
  },
  {
   "cell_type": "markdown",
   "id": "1a6c875c",
   "metadata": {},
   "source": [
    "# Part 3"
   ]
  },
  {
   "cell_type": "code",
   "execution_count": 43,
   "id": "644b8418",
   "metadata": {},
   "outputs": [],
   "source": [
    "def next_step(A, b, x, y, s, mu):\n",
    "\n",
    "    m = x.shape[0]\n",
    "    e = np.ones_like(x)\n",
    "\n",
    "    X = np.diag(x)\n",
    "    S = np.diag(s)\n",
    "    S_inv = np.linalg.inv(S)\n",
    "\n",
    "    mu_prime = (1 - (1/(6*np.sqrt(m)))) * mu\n",
    "\n",
    "    k = np.linalg.inv(A @ S_inv @ X @ A.T) @ (b - mu_prime * A @ S_inv @ e)\n",
    "    f = -A.T @ k\n",
    "    h = -X @ S_inv @ f + mu_prime * S_inv @ e - x\n",
    "\n",
    "    x_prime = x + h\n",
    "    y_prime = y + k\n",
    "    s_prime = s + f\n",
    "\n",
    "    return(x_prime, y_prime, s_prime, mu_prime)\n"
   ]
  },
  {
   "attachments": {
    "image.png": {
     "image/png": "[encoded data removed]"
    }
   },
   "cell_type": "markdown",
   "id": "24920375",
   "metadata": {},
   "source": [
    "# Part 6 \n",
    "i will do the appropriate calculations in python to show that all the inequalities hold for the provided vectors:\\\n",
    "![image.png](attachment:image.png)"
   ]
  },
  {
   "cell_type": "code",
   "execution_count": 65,
   "id": "c72ffa26",
   "metadata": {},
   "outputs": [
    {
     "data": {
      "text/plain": [
       "array([4, 3, 4])"
      ]
     },
     "metadata": {},
     "output_type": "display_data"
    },
    {
     "data": {
      "text/plain": [
       "array([4., 3., 4.])"
      ]
     },
     "metadata": {},
     "output_type": "display_data"
    },
    {
     "data": {
      "text/plain": [
       "array([-3, -4,  0,  0,  0])"
      ]
     },
     "metadata": {},
     "output_type": "display_data"
    },
    {
     "data": {
      "text/plain": [
       "array([-3.0000000e+00, -4.0000000e+00, -4.4408921e-16,  0.0000000e+00,\n",
       "        0.0000000e+00])"
      ]
     },
     "metadata": {},
     "output_type": "display_data"
    }
   ],
   "source": [
    "import numpy as np\n",
    "\n",
    "#c, A, and b were already provided in the description of the LP.\n",
    "\n",
    "c = np.array([-3, -4, 0, 0, 0])\n",
    "\n",
    "A = np.array([[3, 3, 3, 0, 0],\n",
    "              [3, 1, 0, 1, 0],\n",
    "              [1, 4, 0, 0, 1]])\n",
    "\n",
    "b = np.array([4, 3, 4])\n",
    "\n",
    "#The following are the proposed feasible solution vectors\n",
    "\n",
    "x = np.array([2/5, 8/15, 2/5, 19/15, 22/15])\n",
    "\n",
    "y = np.array([-4/5, -4/5, -2/3])\n",
    "\n",
    "s = np.array([37/15, 28/15, 12/5, 4/5, 2/3])\n",
    "\n",
    "#It is clear that both s and x are non-negative\n",
    "\n",
    "proposed_b = A @ x\n",
    "display(b, proposed_b)\n",
    "\n",
    "proposed_c = A.T @ y + s\n",
    "display(c, proposed_c)"
   ]
  },
  {
   "cell_type": "code",
   "execution_count": 66,
   "id": "5a282688",
   "metadata": {},
   "outputs": [
    {
     "name": "stdout",
     "output_type": "stream",
     "text": [
      "[0.44444444 0.88888889 0.         0.77777778 0.        ] [-8.88888889e-01 -8.69123446e-56 -3.33333333e-01] [0.         0.         2.66666667 0.         0.33333333] 6.759849026392404e-56 1639\n"
     ]
    }
   ],
   "source": [
    "#A, b, x, y, s are already set\n",
    "\n",
    "epsilon = 1e-20\n",
    "mu = 1\n",
    "\n",
    "counter = 0\n",
    "\n",
    "while True:\n",
    "\n",
    "    x_prime, y_prime, s_prime, mu_prime = next_step(A, b, x, y, s, mu)\n",
    "\n",
    "    if np.linalg.norm(x - x_prime) < epsilon and np.linalg.norm(y - y_prime) < epsilon and np.linalg.norm(s - s_prime) < epsilon:\n",
    "        break\n",
    "\n",
    "    x = x_prime\n",
    "    y = y_prime\n",
    "    s = s_prime\n",
    "    mu = mu_prime\n",
    "\n",
    "    counter += 1\n",
    "\n",
    "for i in range(x_prime.shape[0]):\n",
    "\n",
    "    if x_prime[i] < s_prime[i]:\n",
    "        x_prime[i] = 0\n",
    "    else:\n",
    "        s_prime[i] = 0\n",
    "\n",
    "print(x_prime, y_prime, s_prime, mu_prime, counter)"
   ]
  },
  {
   "cell_type": "markdown",
   "id": "b8e472fb",
   "metadata": {},
   "source": [
    "# Part 12\n",
    "Using a commercial solver to see the results."
   ]
  },
  {
   "cell_type": "code",
   "execution_count": 72,
   "id": "bd705137",
   "metadata": {},
   "outputs": [
    {
     "name": "stderr",
     "output_type": "stream",
     "text": [
      "C:\\Users\\matej\\AppData\\Local\\Temp\\ipykernel_28872\\474665998.py:1: DeprecationWarning: `method='simplex'` is deprecated and will be removed in SciPy 1.11.0. Please use one of the HiGHS solvers (e.g. `method='highs'`) in new code.\n",
      "  res_simplex = linprog(c=c, A_eq=A, b_eq=b, method=\"simplex\")\n"
     ]
    },
    {
     "data": {
      "text/plain": [
       "array([0.44444444, 0.88888889, 0.        , 0.77777778, 0.        ])"
      ]
     },
     "execution_count": 72,
     "metadata": {},
     "output_type": "execute_result"
    }
   ],
   "source": [
    "res_simplex = linprog(c=c, A_eq=A, b_eq=b, method=\"simplex\")\n",
    "res_simplex.x"
   ]
  },
  {
   "cell_type": "code",
   "execution_count": 73,
   "id": "49d6d912",
   "metadata": {},
   "outputs": [
    {
     "name": "stderr",
     "output_type": "stream",
     "text": [
      "C:\\Users\\matej\\AppData\\Local\\Temp\\ipykernel_28872\\1934601974.py:1: DeprecationWarning: `method='interior-point'` is deprecated and will be removed in SciPy 1.11.0. Please use one of the HiGHS solvers (e.g. `method='highs'`) in new code.\n",
      "  res_interior_point = linprog(c=c, A_eq=A, b_eq=b, method=\"interior-point\")\n"
     ]
    },
    {
     "data": {
      "text/plain": [
       "array([4.44444444e-01, 8.88888889e-01, 2.08281560e-13, 7.77777778e-01,\n",
       "       1.89801298e-14])"
      ]
     },
     "execution_count": 73,
     "metadata": {},
     "output_type": "execute_result"
    }
   ],
   "source": [
    "res_interior_point = linprog(c=c, A_eq=A, b_eq=b, method=\"interior-point\")\n",
    "res_interior_point.x"
   ]
  }
 ],
 "metadata": {
  "kernelspec": {
   "display_name": "MLDS_HW1",
   "language": "python",
   "name": "python3"
  },
  "language_info": {
   "codemirror_mode": {
    "name": "ipython",
    "version": 3
   },
   "file_extension": ".py",
   "mimetype": "text/x-python",
   "name": "python",
   "nbconvert_exporter": "python",
   "pygments_lexer": "ipython3",
   "version": "3.12.9"
  }
 },
 "nbformat": 4,
 "nbformat_minor": 5
}
