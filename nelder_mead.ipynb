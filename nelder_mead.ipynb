{
 "cells": [
  {
   "cell_type": "markdown",
   "id": "36c444fe",
   "metadata": {},
   "source": [
    "# 2D NELDER MEAD\n",
    "\n",
    "I will first implement only the 2 dimensional version in order to try tofigure out the core logics."
   ]
  },
  {
   "cell_type": "code",
   "execution_count": null,
   "id": "6ffe0804",
   "metadata": {},
   "outputs": [],
   "source": [
    "def nelder_mead_2d(x, y, ):\n",
    "    pass"
   ]
  }
 ],
 "metadata": {
  "kernelspec": {
   "display_name": "MLDS_HW1",
   "language": "python",
   "name": "python3"
  },
  "language_info": {
   "codemirror_mode": {
    "name": "ipython",
    "version": 3
   },
   "file_extension": ".py",
   "mimetype": "text/x-python",
   "name": "python",
   "nbconvert_exporter": "python",
   "pygments_lexer": "ipython3",
   "version": "3.12.9"
  }
 },
 "nbformat": 4,
 "nbformat_minor": 5
}
