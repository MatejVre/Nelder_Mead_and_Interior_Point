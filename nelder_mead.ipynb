{
 "cells": [
  {
   "cell_type": "code",
   "execution_count": 42,
   "id": "16e7f890",
   "metadata": {},
   "outputs": [],
   "source": [
    "import numpy as np"
   ]
  },
  {
   "cell_type": "markdown",
   "id": "7a338552",
   "metadata": {},
   "source": [
    "# FUNCTIONS"
   ]
  },
  {
   "cell_type": "code",
   "execution_count": 3,
   "id": "1bbcdfad",
   "metadata": {},
   "outputs": [],
   "source": [
    "def f1(x, y, z):\n",
    "    return (x - z) ** 2 + (2*y + z) ** 2 + (4*x -2*y + z) ** 2 + x + y\n",
    "\n",
    "def f2(x, y, z):\n",
    "    return ((x - 1) ** 2) + ((y - 1) ** 2) + 100*((y - (x ** 2)) ** 2) + 100*((z - (y ** 2)) ** 2)\n",
    "\n",
    "def f3(x, y):\n",
    "    return (1.5 - x + x*y) ** 2 + (2.25 - x + x*(y ** 2)) ** 2 + (2.625 - x + x*(y ** 3)) ** 2"
   ]
  },
  {
   "cell_type": "markdown",
   "id": "36c444fe",
   "metadata": {},
   "source": [
    "# 2D NELDER MEAD\n",
    "\n",
    "I will first implement only the 2 dimensional version in order to try to figure out the core logics."
   ]
  },
  {
   "cell_type": "code",
   "execution_count": null,
   "id": "6ffe0804",
   "metadata": {},
   "outputs": [],
   "source": [
    "def nelder_mead_2d(v1, v2, v3, f):\n",
    "\n",
    "    points = [v1, v2, v3]\n",
    "\n",
    "    #the loop should start here\n",
    "    for i in range(5):\n",
    "        zs = []\n",
    "        \n",
    "        for point in points:\n",
    "            zs.append(f(*point))\n",
    "\n",
    "        sorted_indices = np.argsort(zs)    \n",
    "\n",
    "        best = points[sorted_indices[0]]\n",
    "        good = points[sorted_indices[1]]\n",
    "        worst = points[sorted_indices[2]]\n",
    "\n",
    "        #Sanity check\n",
    "        # print(best, f(*best))\n",
    "        # print(good, f(*good))\n",
    "        # print(worst, f(*worst))\n",
    "\n",
    "        M = (best + good) / 2\n",
    "        R = 2*M - worst\n",
    "        E = 2*R - M\n",
    "        # print(M, R, E)\n",
    "\n",
    "        yr = f(*R)\n",
    "        ye = f(*E)\n",
    "\n",
    "        zs.sort() #sort them so i can easily compare the values\n",
    "\n",
    "        if yr < zs[0]:\n",
    "            if ye < yr:\n",
    "                next = E\n",
    "            else:\n",
    "                next = R\n",
    "            points = [best, good, next]\n",
    "        \n",
    "        elif yr < zs[1]:\n",
    "            next = R\n",
    "            points = [best, good, next]\n",
    "        \n",
    "        elif yr < zs[2]:\n",
    "            oc = worst + 3/2 * (M - worst)\n",
    "            yoc = f(*oc)\n",
    "            if yoc < yr:\n",
    "                next = oc\n",
    "            points = [best, good, next]\n",
    "        else: #shrink\n",
    "            good = 1/2 * (best + good)\n",
    "            worst = 1/2 * (best + worst)\n",
    "            points = [best, good, worst]\n",
    "\n",
    "        print(f(*best))\n",
    "\n"
   ]
  },
  {
   "cell_type": "code",
   "execution_count": 66,
   "id": "024202a4",
   "metadata": {},
   "outputs": [
    {
     "name": "stdout",
     "output_type": "stream",
     "text": [
      "[1 0] 4.453125\n",
      "[0 0] 14.203125\n",
      "[3 2] 704.953125\n",
      "4.453125\n",
      "[1 0] 4.453125\n",
      "[0 0] 14.203125\n",
      "[-0.75 -1.  ] 31.078125\n",
      "4.453125\n",
      "[1 0] 4.453125\n",
      "[1.125 0.5  ] 5.548095703125\n",
      "[0 0] 14.203125\n",
      "4.453125\n",
      "[2.125 0.5  ] 1.208251953125\n",
      "[1 0] 4.453125\n",
      "[1.125 0.5  ] 5.548095703125\n",
      "1.208251953125\n",
      "[2. 0.] 0.703125\n",
      "[2.125 0.5  ] 1.208251953125\n",
      "[1 0] 4.453125\n",
      "0.703125\n"
     ]
    }
   ],
   "source": [
    "test_point1 = np.array([0, 0])\n",
    "test_point2 = np.array([1, 0])\n",
    "test_point3 = np.array([3, 2])\n",
    "\n",
    "nelder_mead_2d(test_point1, test_point2, test_point3, f3)\n"
   ]
  }
 ],
 "metadata": {
  "kernelspec": {
   "display_name": "MLDS_HW1",
   "language": "python",
   "name": "python3"
  },
  "language_info": {
   "codemirror_mode": {
    "name": "ipython",
    "version": 3
   },
   "file_extension": ".py",
   "mimetype": "text/x-python",
   "name": "python",
   "nbconvert_exporter": "python",
   "pygments_lexer": "ipython3",
   "version": "3.12.9"
  }
 },
 "nbformat": 4,
 "nbformat_minor": 5
}
