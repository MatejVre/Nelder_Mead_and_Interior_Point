{
 "cells": [
  {
   "cell_type": "code",
   "execution_count": 294,
   "id": "16e7f890",
   "metadata": {},
   "outputs": [],
   "source": [
    "import numpy as np\n",
    "import subprocess\n",
    "import os"
   ]
  },
  {
   "cell_type": "markdown",
   "id": "7a338552",
   "metadata": {},
   "source": [
    "# FUNCTIONS"
   ]
  },
  {
   "attachments": {
    "image.png": {
     "image/png": "[encoded data removed]"
    }
   },
   "cell_type": "markdown",
   "id": "83c7bfe6",
   "metadata": {},
   "source": [
    "![image.png](attachment:image.png)"
   ]
  },
  {
   "cell_type": "code",
   "execution_count": 302,
   "id": "1bbcdfad",
   "metadata": {},
   "outputs": [],
   "source": [
    "def f1(x, y, z):\n",
    "    return (x - z) ** 2 + (2*y + z) ** 2 + (4*x -2*y + z) ** 2 + x + y\n",
    "\n",
    "#min: -19/96 at [-1/6, -11/48, 1/6]\n",
    "\n",
    "def f2(x, y, z):\n",
    "    return ((x - 1) ** 2) + ((y - 1) ** 2) + 100*((y - (x ** 2)) ** 2) + 100*((z - (y ** 2)) ** 2)\n",
    "\n",
    "#min: 0 at [1, 1, 1]\n",
    "\n",
    "def f3(x, y):\n",
    "    return (1.5 - x + x*y) ** 2 + (2.25 - x + x*(y ** 2)) ** 2 + (2.625 - x + x*(y ** 3)) ** 2\n",
    "\n",
    "#min: 0 at [3, 0.5]\n",
    "\n",
    "\n",
    "def func(x, y):\n",
    "    return x**2 + np.e**x + y**2 -x*y\n",
    "\n",
    "def rosenbrock(x, y):\n",
    "    return (1 - x)**2 + 100 * (y - x**2)**2\n",
    "\n",
    "def quad3d(x, y, z):\n",
    "    return (x - 1)**2 + (y - 2)**2 + (z + 1)**2\n",
    "\n",
    "env = os.environ.copy()\n",
    "env[\"PATH\"] += r\";C:\\msys64\\usr\\bin\"\n",
    "\n",
    "def blackbox1(x, y, z):\n",
    "    result = subprocess.run(\n",
    "        [\"./hw4_1_executables/hw4_1_win.exe\", \"63240458\", \"1\", f\"{x}\", f\"{y}\", f\"{z}\"],  # command and args\n",
    "        capture_output=True,    # capture stdout and stderr\n",
    "        text=True,              # get output as string (not bytes)\n",
    "        env=env\n",
    "    )\n",
    "\n",
    "    return(float(result.stdout))"
   ]
  },
  {
   "cell_type": "markdown",
   "id": "36c444fe",
   "metadata": {},
   "source": [
    "# 2D NELDER MEAD\n",
    "\n",
    "I will first implement only the 2 dimensional version in order to try to figure out the core logics."
   ]
  },
  {
   "cell_type": "code",
   "execution_count": 325,
   "id": "6ffe0804",
   "metadata": {},
   "outputs": [],
   "source": [
    "def nelder_mead_2d(v1, v2, v3, f):\n",
    "\n",
    "    points = np.array([v1, v2, v3])\n",
    "    zs = np.array([f(*point) for point in points])\n",
    "\n",
    "    #the loop should start here\n",
    "    for i in range(100):\n",
    "        sorted_indices = np.argsort(zs)\n",
    "\n",
    "        zs[:] = zs[sorted_indices]\n",
    "        points[:] = points[sorted_indices]\n",
    "        best = points[0]\n",
    "        good = points[1]\n",
    "        worst = points[2]\n",
    "\n",
    "        #Sanity check\n",
    "        # print(best, f(*best))\n",
    "        # print(good, f(*good))\n",
    "        # print(worst, f(*worst))\n",
    "\n",
    "        M = (best + good) / 2\n",
    "        R = 2*M - worst\n",
    "        E = 2*R - M\n",
    "        # print(M, R, E)\n",
    "\n",
    "        yr = f(*R)\n",
    "        ye = f(*E)\n",
    "\n",
    "        if yr < zs[0]:\n",
    "            if ye < yr:\n",
    "                next_point = E\n",
    "            else:\n",
    "                next_point = R\n",
    "            new_val = f(*next_point)\n",
    "            points[2] = next_point\n",
    "            zs[2] = new_val\n",
    "        \n",
    "        elif yr < zs[1]:\n",
    "            points[2] = R\n",
    "            zs[2] = f(*R)\n",
    "        \n",
    "        elif yr < zs[2]:\n",
    "            oc = worst + 3/2 * (M - worst)\n",
    "            yoc = f(*oc)\n",
    "            if yoc < yr:\n",
    "                points[2] = oc\n",
    "                zs[2] = f(*oc)\n",
    "            else: #shrink\n",
    "                for i in range(1, len(points)):\n",
    "                    points[i] = 0.5 * (points[0] + points[i])\n",
    "                    zs[i] = f(*points[i])\n",
    "\n",
    "        else:\n",
    "            k = worst + 1/2 * (M - worst)\n",
    "            yk = f(*k)\n",
    "            if yk < zs[2]:\n",
    "                points[2] = k\n",
    "                zs[2] = f(*k)\n",
    "            else: #shrink\n",
    "                for i in range(1, len(points)):\n",
    "                    points[i] = 0.5 * (points[0] + points[i])\n",
    "                    zs[i] = f(*points[i])\n",
    "\n",
    "    print(f(*best), best)"
   ]
  },
  {
   "cell_type": "markdown",
   "id": "9de5d3fd",
   "metadata": {},
   "source": [
    "7.514482516117321e-15 [1.00000007 1.00000014]"
   ]
  },
  {
   "cell_type": "code",
   "execution_count": 326,
   "id": "024202a4",
   "metadata": {},
   "outputs": [
    {
     "name": "stdout",
     "output_type": "stream",
     "text": [
      "7.514482516117321e-15 [1.00000007 1.00000014]\n"
     ]
    }
   ],
   "source": [
    "test_point1 = np.array([4.5, 4.5])\n",
    "test_point2 = test_point1 + np.array([5, 0])\n",
    "test_point3 = test_point1 + np.array([0, 5])\n",
    "\n",
    "nelder_mead_2d(test_point1, test_point2, test_point3, rosenbrock)\n"
   ]
  },
  {
   "cell_type": "code",
   "execution_count": 248,
   "id": "5293ceec",
   "metadata": {},
   "outputs": [
    {
     "name": "stdout",
     "output_type": "stream",
     "text": [
      "0.0 [3.  0.5]\n"
     ]
    }
   ],
   "source": [
    "# test_point1 = np.array([1, 1])\n",
    "# test_point2 = test_point1 + np.array([2, 0])\n",
    "# test_point3 = test_point1 + np.array([0, 2])\n",
    "\n",
    "\n",
    "nelder_mead_2d(test_point1, test_point2, test_point3, f3)\n"
   ]
  },
  {
   "cell_type": "code",
   "execution_count": null,
   "id": "019cf529",
   "metadata": {},
   "outputs": [],
   "source": [
    "def nelder_mead_3d(v1, v2, v3, v4, f):\n",
    "\n",
    "    points = np.array([v1, v2, v3, v4])\n",
    "    zs = np.array([f(*point) for point in points])\n",
    "\n",
    "    #the loop should start here\n",
    "    for i in range(100):\n",
    "        sorted_indices = np.argsort(zs)\n",
    "\n",
    "        zs[:] = zs[sorted_indices]\n",
    "        points[:] = points[sorted_indices]\n",
    "        best = points[0]\n",
    "        good = points[2]\n",
    "        worst = points[3]\n",
    "\n",
    "        #Sanity check\n",
    "        # print(best, f(*best))\n",
    "        # print(good, f(*good))\n",
    "        # print(worst, f(*worst))\n",
    "\n",
    "        M = (best + good) / 2\n",
    "        R = 2*M - worst\n",
    "        E = 2*R - M\n",
    "        # print(M, R, E)\n",
    "\n",
    "        yr = f(*R)\n",
    "        ye = f(*E)\n",
    "\n",
    "        if yr < zs[0]:\n",
    "            if ye < yr:\n",
    "                next_point = E\n",
    "            else:\n",
    "                next_point = R\n",
    "            points[3] = next_point\n",
    "            zs[3] = f(*next_point)\n",
    "        \n",
    "        elif yr < zs[2]:\n",
    "            points[2] = R\n",
    "            zs[2] = f(*R)\n",
    "        \n",
    "        elif yr < zs[3]:\n",
    "            oc = worst + 3/2 * (M - worst)\n",
    "            yoc = f(*oc)\n",
    "            if yoc < yr:\n",
    "                points[3] = oc\n",
    "                zs[3] = f(*oc)\n",
    "            else: #shrink\n",
    "                for i in range(1, len(points)):\n",
    "                    points[i] = 0.5 * (points[0] + points[i])\n",
    "                    zs[i] = f(*points[i])\n",
    "\n",
    "        else:\n",
    "            k = worst + 1/2 * (M - worst)\n",
    "            yk = f(*k)\n",
    "            if yk < zs[3]:\n",
    "                points[3] = k\n",
    "                zs[3] = f(*k)\n",
    "            else: #shrink\n",
    "                for i in range(1, len(points)):\n",
    "                    points[i] = 0.5 * (points[0] + points[i])\n",
    "                    zs[i] = f(*points[i])\n",
    "\n",
    "        print(f(*best), best)"
   ]
  },
  {
   "cell_type": "code",
   "execution_count": 278,
   "id": "56457add",
   "metadata": {},
   "outputs": [
    {
     "name": "stdout",
     "output_type": "stream",
     "text": [
      "2.0 [0. 0. 0.]\n",
      "2.0 [0. 0. 0.]\n",
      "2.0 [0. 0. 0.]\n",
      "2.0 [0. 0. 0.]\n",
      "2.0 [0. 0. 0.]\n",
      "2.0 [0. 0. 0.]\n",
      "2.0 [0. 0. 0.]\n",
      "2.0 [0. 0. 0.]\n",
      "2.0 [0. 0. 0.]\n",
      "2.0 [0. 0. 0.]\n",
      "2.0 [0. 0. 0.]\n",
      "1.9928323980441291 [0.10058594 0.06591797 0.00463867]\n",
      "1.7838963712359055 [ 0.11987305  0.02722168 -0.02081299]\n",
      "1.7838963712359055 [ 0.11987305  0.02722168 -0.02081299]\n",
      "1.4718885966684696 [ 0.33068848  0.13970947 -0.02426147]\n",
      "1.4592923453087339 [ 0.32843018  0.07278442 -0.01066589]\n",
      "1.4592923453087339 [ 0.32843018  0.07278442 -0.01066589]\n",
      "1.4592923453087339 [ 0.32843018  0.07278442 -0.01066589]\n",
      "1.4592923453087339 [ 0.32843018  0.07278442 -0.01066589]\n",
      "1.4592923453087339 [ 0.32843018  0.07278442 -0.01066589]\n",
      "1.2191217268494206 [0.36510468 0.15986252 0.00564384]\n",
      "1.2191217268494206 [0.36510468 0.15986252 0.00564384]\n",
      "1.2191217268494206 [0.36510468 0.15986252 0.00564384]\n",
      "1.2191217268494206 [0.36510468 0.15986252 0.00564384]\n",
      "1.2191217268494206 [0.36510468 0.15986252 0.00564384]\n",
      "1.2191217268494206 [0.36510468 0.15986252 0.00564384]\n",
      "1.1612179420003008 [0.36643529 0.13316262 0.02683336]\n",
      "1.1612179420003008 [0.36643529 0.13316262 0.02683336]\n",
      "1.1612179420003008 [0.36643529 0.13316262 0.02683336]\n",
      "1.1612179420003008 [0.36643529 0.13316262 0.02683336]\n",
      "1.121670092333836 [0.39570609 0.14227499 0.02206967]\n",
      "1.0575596803787755 [0.43281813 0.1669168  0.0291286 ]\n",
      "1.0575596803787755 [0.43281813 0.1669168  0.0291286 ]\n",
      "1.0575596803787755 [0.43281813 0.1669168  0.0291286 ]\n",
      "1.0575596803787755 [0.43281813 0.1669168  0.0291286 ]\n",
      "1.0525650619641096 [0.43599279 0.16932268 0.02505199]\n",
      "1.0525650619641096 [0.43599279 0.16932268 0.02505199]\n",
      "0.9996219464576452 [0.44643321 0.18870027 0.0202008 ]\n",
      "0.9996219464576452 [0.44643321 0.18870027 0.0202008 ]\n",
      "0.9996219464576452 [0.44643321 0.18870027 0.0202008 ]\n",
      "0.9996219464576452 [0.44643321 0.18870027 0.0202008 ]\n",
      "0.9933234614687678 [0.44325855 0.18629439 0.02427741]\n",
      "0.9933234614687678 [0.44325855 0.18629439 0.02427741]\n",
      "0.9755652064142722 [0.48331766 0.20940808 0.02802025]\n",
      "0.9521430138988918 [0.48133245 0.21967979 0.02380014]\n",
      "0.9101131379608456 [0.49402008 0.23156072 0.03171472]\n",
      "0.9101131379608456 [0.49402008 0.23156072 0.03171472]\n",
      "0.9101131379608456 [0.49402008 0.23156072 0.03171472]\n",
      "0.9101131379608456 [0.49402008 0.23156072 0.03171472]\n",
      "0.8822549917914736 [0.49634635 0.23004048 0.04336946]\n",
      "0.8631043808205091 [0.55352794 0.27586977 0.05460189]\n",
      "0.7808121524206432 [0.54956656 0.28085106 0.06625992]\n",
      "0.7808121524206432 [0.54956656 0.28085106 0.06625992]\n",
      "0.7808121524206432 [0.54956656 0.28085106 0.06625992]\n",
      "0.7808121524206432 [0.54956656 0.28085106 0.06625992]\n",
      "0.7808121524206432 [0.54956656 0.28085106 0.06625992]\n",
      "0.768150430946635 [0.5889927  0.31318152 0.08636661]\n",
      "0.7588102702443213 [0.56478911 0.29289873 0.08946547]\n",
      "0.7336272677352162 [0.56774784 0.30196305 0.07775876]\n",
      "0.7336272677352162 [0.56774784 0.30196305 0.07775876]\n",
      "0.7007135943051876 [0.5996723  0.33059054 0.11831651]\n",
      "0.6981362171190892 [0.64205717 0.37198531 0.12671649]\n",
      "0.6288402379825486 [0.60035956 0.34233554 0.11098198]\n",
      "0.6288402379825486 [0.60035956 0.34233554 0.11098198]\n",
      "0.6288402379825486 [0.60035956 0.34233554 0.11098198]\n",
      "0.6248899924158927 [0.70728061 0.45273029 0.19316292]\n",
      "0.5776122017960094 [0.66489575 0.41133552 0.18476294]\n",
      "0.5348695508798942 [0.63331492 0.38858052 0.14053792]\n",
      "0.5348695508798942 [0.63331492 0.38858052 0.14053792]\n",
      "0.5348695508798942 [0.63331492 0.38858052 0.14053792]\n",
      "0.5348695508798942 [0.63331492 0.38858052 0.14053792]\n",
      "0.5157297901817836 [0.64465429 0.39888491 0.15752774]\n",
      "0.5097312662385767 [0.67524226 0.42868037 0.17786538]\n",
      "0.5097312662385767 [0.67524226 0.42868037 0.17786538]\n",
      "0.5097312662385767 [0.67524226 0.42868037 0.17786538]\n",
      "0.5093022708298577 [0.65923782 0.41431269 0.16215839]\n",
      "0.5070363465077529 [0.65805404 0.41260864 0.16445228]\n",
      "0.5070363465077529 [0.65805404 0.41260864 0.16445228]\n",
      "0.5069720738601804 [0.6669441  0.42107052 0.17058536]\n",
      "0.5069720738601804 [0.6669441  0.42107052 0.17058536]\n",
      "0.506916019735642 [0.67060167 0.42496641 0.17250856]\n",
      "0.5054316420086278 [0.66269422 0.41676549 0.17005166]\n",
      "0.5054316420086278 [0.66269422 0.41676549 0.17005166]\n",
      "0.5054316420086278 [0.66269422 0.41676549 0.17005166]\n",
      "0.5054316420086278 [0.66269422 0.41676549 0.17005166]\n",
      "0.5054316420086278 [0.66269422 0.41676549 0.17005166]\n",
      "0.5054316420086278 [0.66269422 0.41676549 0.17005166]\n",
      "0.5054316420086278 [0.66269422 0.41676549 0.17005166]\n",
      "0.5050807311825145 [0.66470768 0.41880183 0.17114079]\n",
      "0.5049090205274109 [0.66356564 0.41792756 0.16939722]\n",
      "0.5049090205274109 [0.66356564 0.41792756 0.16939722]\n",
      "0.504448563559233 [0.66690622 0.42129475 0.1715587 ]\n",
      "0.504448563559233 [0.66690622 0.42129475 0.1715587 ]\n",
      "0.504448563559233 [0.66690622 0.42129475 0.1715587 ]\n",
      "0.504448563559233 [0.66690622 0.42129475 0.1715587 ]\n",
      "0.5042873463610368 [0.66470089 0.41915272 0.17015296]\n",
      "0.504016540518941 [0.66892558 0.42318733 0.17382426]\n",
      "0.504016540518941 [0.66892558 0.42318733 0.17382426]\n",
      "0.5039572452250625 [0.6649923  0.41922754 0.17176528]\n",
      "0.5039572452250625 [0.6649923  0.41922754 0.17176528]\n"
     ]
    }
   ],
   "source": [
    "v1 = np.array([0.0, 0.0, 0.0])\n",
    "v2 = np.array([1.0, 0.0, 0.0])\n",
    "v3 = np.array([0.0, 1.0, 0.0])\n",
    "v4 = np.array([0.0, 0.0, 1.0])\n",
    "\n",
    "nelder_mead_3d(v1, v2, v3, v4, f2)"
   ]
  },
  {
   "cell_type": "markdown",
   "id": "ffa50cb4",
   "metadata": {},
   "source": [
    "# BLACKBOX FUNCTIONS"
   ]
  },
  {
   "cell_type": "markdown",
   "id": "463370c7",
   "metadata": {},
   "source": [
    "When running the method it occured to me that calculating the function value each time is not the best approach, so i will change the method to minimize function evaluations *smiley face*"
   ]
  },
  {
   "cell_type": "code",
   "execution_count": 319,
   "id": "7ffb2155",
   "metadata": {},
   "outputs": [
    {
     "name": "stdout",
     "output_type": "stream",
     "text": [
      "1.38955551019194 [0. 0. 0.]\n",
      "1.11652519858264 [0.5  0.   0.25]\n",
      "0.988171243865611 [0.125  0.25   0.5625]\n",
      "0.988171243865611 [0.125  0.25   0.5625]\n",
      "0.975467112835033 [0.46875  0.1875   0.609375]\n",
      "0.920567020125206 [0.375  0.1875 0.3125]\n",
      "0.920567020125206 [0.375  0.1875 0.3125]\n"
     ]
    },
    {
     "ename": "KeyboardInterrupt",
     "evalue": "",
     "output_type": "error",
     "traceback": [
      "\u001b[31m---------------------------------------------------------------------------\u001b[39m",
      "\u001b[31mKeyboardInterrupt\u001b[39m                         Traceback (most recent call last)",
      "\u001b[36mCell\u001b[39m\u001b[36m \u001b[39m\u001b[32mIn[319]\u001b[39m\u001b[32m, line 6\u001b[39m\n\u001b[32m      3\u001b[39m v3 = np.array([\u001b[32m0.0\u001b[39m, \u001b[32m1.0\u001b[39m, \u001b[32m0.0\u001b[39m])\n\u001b[32m      4\u001b[39m v4 = np.array([\u001b[32m0.0\u001b[39m, \u001b[32m0.0\u001b[39m, \u001b[32m1.0\u001b[39m])\n\u001b[32m----> \u001b[39m\u001b[32m6\u001b[39m \u001b[43mnelder_mead_3d\u001b[49m\u001b[43m(\u001b[49m\u001b[43mv1\u001b[49m\u001b[43m,\u001b[49m\u001b[43m \u001b[49m\u001b[43mv2\u001b[49m\u001b[43m,\u001b[49m\u001b[43m \u001b[49m\u001b[43mv3\u001b[49m\u001b[43m,\u001b[49m\u001b[43m \u001b[49m\u001b[43mv4\u001b[49m\u001b[43m,\u001b[49m\u001b[43m \u001b[49m\u001b[43mblackbox1\u001b[49m\u001b[43m)\u001b[49m   \n",
      "\u001b[36mCell\u001b[39m\u001b[36m \u001b[39m\u001b[32mIn[271]\u001b[39m\u001b[32m, line 7\u001b[39m, in \u001b[36mnelder_mead_3d\u001b[39m\u001b[34m(v1, v2, v3, v4, f)\u001b[39m\n\u001b[32m      5\u001b[39m \u001b[38;5;66;03m#the loop should start here\u001b[39;00m\n\u001b[32m      6\u001b[39m \u001b[38;5;28;01mfor\u001b[39;00m i \u001b[38;5;129;01min\u001b[39;00m \u001b[38;5;28mrange\u001b[39m(\u001b[32m100\u001b[39m):\n\u001b[32m----> \u001b[39m\u001b[32m7\u001b[39m     zs = np.array([\u001b[43mf\u001b[49m\u001b[43m(\u001b[49m\u001b[43m*\u001b[49m\u001b[43mpoint\u001b[49m\u001b[43m)\u001b[49m \u001b[38;5;28;01mfor\u001b[39;00m point \u001b[38;5;129;01min\u001b[39;00m points])\n\u001b[32m      9\u001b[39m     sorted_indices = np.argsort(zs)\n\u001b[32m     11\u001b[39m     zs[:] = zs[sorted_indices]\n",
      "\u001b[36mCell\u001b[39m\u001b[36m \u001b[39m\u001b[32mIn[302]\u001b[39m\u001b[32m, line 30\u001b[39m, in \u001b[36mblackbox1\u001b[39m\u001b[34m(x, y, z)\u001b[39m\n\u001b[32m     29\u001b[39m \u001b[38;5;28;01mdef\u001b[39;00m\u001b[38;5;250m \u001b[39m\u001b[34mblackbox1\u001b[39m(x, y, z):\n\u001b[32m---> \u001b[39m\u001b[32m30\u001b[39m     result = \u001b[43msubprocess\u001b[49m\u001b[43m.\u001b[49m\u001b[43mrun\u001b[49m\u001b[43m(\u001b[49m\n\u001b[32m     31\u001b[39m \u001b[43m        \u001b[49m\u001b[43m[\u001b[49m\u001b[33;43m\"\u001b[39;49m\u001b[33;43m./hw4_1_executables/hw4_1_win.exe\u001b[39;49m\u001b[33;43m\"\u001b[39;49m\u001b[43m,\u001b[49m\u001b[43m \u001b[49m\u001b[33;43m\"\u001b[39;49m\u001b[33;43m63240458\u001b[39;49m\u001b[33;43m\"\u001b[39;49m\u001b[43m,\u001b[49m\u001b[43m \u001b[49m\u001b[33;43m\"\u001b[39;49m\u001b[33;43m1\u001b[39;49m\u001b[33;43m\"\u001b[39;49m\u001b[43m,\u001b[49m\u001b[43m \u001b[49m\u001b[33;43mf\u001b[39;49m\u001b[33;43m\"\u001b[39;49m\u001b[38;5;132;43;01m{\u001b[39;49;00m\u001b[43mx\u001b[49m\u001b[38;5;132;43;01m}\u001b[39;49;00m\u001b[33;43m\"\u001b[39;49m\u001b[43m,\u001b[49m\u001b[43m \u001b[49m\u001b[33;43mf\u001b[39;49m\u001b[33;43m\"\u001b[39;49m\u001b[38;5;132;43;01m{\u001b[39;49;00m\u001b[43my\u001b[49m\u001b[38;5;132;43;01m}\u001b[39;49;00m\u001b[33;43m\"\u001b[39;49m\u001b[43m,\u001b[49m\u001b[43m \u001b[49m\u001b[33;43mf\u001b[39;49m\u001b[33;43m\"\u001b[39;49m\u001b[38;5;132;43;01m{\u001b[39;49;00m\u001b[43mz\u001b[49m\u001b[38;5;132;43;01m}\u001b[39;49;00m\u001b[33;43m\"\u001b[39;49m\u001b[43m]\u001b[49m\u001b[43m,\u001b[49m\u001b[43m  \u001b[49m\u001b[38;5;66;43;03m# command and args\u001b[39;49;00m\n\u001b[32m     32\u001b[39m \u001b[43m        \u001b[49m\u001b[43mcapture_output\u001b[49m\u001b[43m=\u001b[49m\u001b[38;5;28;43;01mTrue\u001b[39;49;00m\u001b[43m,\u001b[49m\u001b[43m    \u001b[49m\u001b[38;5;66;43;03m# capture stdout and stderr\u001b[39;49;00m\n\u001b[32m     33\u001b[39m \u001b[43m        \u001b[49m\u001b[43mtext\u001b[49m\u001b[43m=\u001b[49m\u001b[38;5;28;43;01mTrue\u001b[39;49;00m\u001b[43m,\u001b[49m\u001b[43m              \u001b[49m\u001b[38;5;66;43;03m# get output as string (not bytes)\u001b[39;49;00m\n\u001b[32m     34\u001b[39m \u001b[43m        \u001b[49m\u001b[43menv\u001b[49m\u001b[43m=\u001b[49m\u001b[43menv\u001b[49m\n\u001b[32m     35\u001b[39m \u001b[43m    \u001b[49m\u001b[43m)\u001b[49m\n\u001b[32m     37\u001b[39m     \u001b[38;5;28;01mreturn\u001b[39;00m(\u001b[38;5;28mfloat\u001b[39m(result.stdout))\n",
      "\u001b[36mFile \u001b[39m\u001b[32mc:\\Users\\matej\\miniconda3\\envs\\MLDS_HW1\\Lib\\subprocess.py:552\u001b[39m, in \u001b[36mrun\u001b[39m\u001b[34m(input, capture_output, timeout, check, *popenargs, **kwargs)\u001b[39m\n\u001b[32m    550\u001b[39m \u001b[38;5;28;01mwith\u001b[39;00m Popen(*popenargs, **kwargs) \u001b[38;5;28;01mas\u001b[39;00m process:\n\u001b[32m    551\u001b[39m     \u001b[38;5;28;01mtry\u001b[39;00m:\n\u001b[32m--> \u001b[39m\u001b[32m552\u001b[39m         stdout, stderr = \u001b[43mprocess\u001b[49m\u001b[43m.\u001b[49m\u001b[43mcommunicate\u001b[49m\u001b[43m(\u001b[49m\u001b[38;5;28;43minput\u001b[39;49m\u001b[43m,\u001b[49m\u001b[43m \u001b[49m\u001b[43mtimeout\u001b[49m\u001b[43m=\u001b[49m\u001b[43mtimeout\u001b[49m\u001b[43m)\u001b[49m\n\u001b[32m    553\u001b[39m     \u001b[38;5;28;01mexcept\u001b[39;00m TimeoutExpired \u001b[38;5;28;01mas\u001b[39;00m exc:\n\u001b[32m    554\u001b[39m         process.kill()\n",
      "\u001b[36mFile \u001b[39m\u001b[32mc:\\Users\\matej\\miniconda3\\envs\\MLDS_HW1\\Lib\\subprocess.py:1211\u001b[39m, in \u001b[36mPopen.communicate\u001b[39m\u001b[34m(self, input, timeout)\u001b[39m\n\u001b[32m   1208\u001b[39m     endtime = \u001b[38;5;28;01mNone\u001b[39;00m\n\u001b[32m   1210\u001b[39m \u001b[38;5;28;01mtry\u001b[39;00m:\n\u001b[32m-> \u001b[39m\u001b[32m1211\u001b[39m     stdout, stderr = \u001b[38;5;28;43mself\u001b[39;49m\u001b[43m.\u001b[49m\u001b[43m_communicate\u001b[49m\u001b[43m(\u001b[49m\u001b[38;5;28;43minput\u001b[39;49m\u001b[43m,\u001b[49m\u001b[43m \u001b[49m\u001b[43mendtime\u001b[49m\u001b[43m,\u001b[49m\u001b[43m \u001b[49m\u001b[43mtimeout\u001b[49m\u001b[43m)\u001b[49m\n\u001b[32m   1212\u001b[39m \u001b[38;5;28;01mexcept\u001b[39;00m \u001b[38;5;167;01mKeyboardInterrupt\u001b[39;00m:\n\u001b[32m   1213\u001b[39m     \u001b[38;5;66;03m# https://bugs.python.org/issue25942\u001b[39;00m\n\u001b[32m   1214\u001b[39m     \u001b[38;5;66;03m# See the detailed comment in .wait().\u001b[39;00m\n\u001b[32m   1215\u001b[39m     \u001b[38;5;28;01mif\u001b[39;00m timeout \u001b[38;5;129;01mis\u001b[39;00m \u001b[38;5;129;01mnot\u001b[39;00m \u001b[38;5;28;01mNone\u001b[39;00m:\n",
      "\u001b[36mFile \u001b[39m\u001b[32mc:\\Users\\matej\\miniconda3\\envs\\MLDS_HW1\\Lib\\subprocess.py:1630\u001b[39m, in \u001b[36mPopen._communicate\u001b[39m\u001b[34m(self, input, endtime, orig_timeout)\u001b[39m\n\u001b[32m   1626\u001b[39m \u001b[38;5;66;03m# Wait for the reader threads, or time out.  If we time out, the\u001b[39;00m\n\u001b[32m   1627\u001b[39m \u001b[38;5;66;03m# threads remain reading and the fds left open in case the user\u001b[39;00m\n\u001b[32m   1628\u001b[39m \u001b[38;5;66;03m# calls communicate again.\u001b[39;00m\n\u001b[32m   1629\u001b[39m \u001b[38;5;28;01mif\u001b[39;00m \u001b[38;5;28mself\u001b[39m.stdout \u001b[38;5;129;01mis\u001b[39;00m \u001b[38;5;129;01mnot\u001b[39;00m \u001b[38;5;28;01mNone\u001b[39;00m:\n\u001b[32m-> \u001b[39m\u001b[32m1630\u001b[39m     \u001b[38;5;28;43mself\u001b[39;49m\u001b[43m.\u001b[49m\u001b[43mstdout_thread\u001b[49m\u001b[43m.\u001b[49m\u001b[43mjoin\u001b[49m\u001b[43m(\u001b[49m\u001b[38;5;28;43mself\u001b[39;49m\u001b[43m.\u001b[49m\u001b[43m_remaining_time\u001b[49m\u001b[43m(\u001b[49m\u001b[43mendtime\u001b[49m\u001b[43m)\u001b[49m\u001b[43m)\u001b[49m\n\u001b[32m   1631\u001b[39m     \u001b[38;5;28;01mif\u001b[39;00m \u001b[38;5;28mself\u001b[39m.stdout_thread.is_alive():\n\u001b[32m   1632\u001b[39m         \u001b[38;5;28;01mraise\u001b[39;00m TimeoutExpired(\u001b[38;5;28mself\u001b[39m.args, orig_timeout)\n",
      "\u001b[36mFile \u001b[39m\u001b[32mc:\\Users\\matej\\miniconda3\\envs\\MLDS_HW1\\Lib\\threading.py:1149\u001b[39m, in \u001b[36mThread.join\u001b[39m\u001b[34m(self, timeout)\u001b[39m\n\u001b[32m   1146\u001b[39m     \u001b[38;5;28;01mraise\u001b[39;00m \u001b[38;5;167;01mRuntimeError\u001b[39;00m(\u001b[33m\"\u001b[39m\u001b[33mcannot join current thread\u001b[39m\u001b[33m\"\u001b[39m)\n\u001b[32m   1148\u001b[39m \u001b[38;5;28;01mif\u001b[39;00m timeout \u001b[38;5;129;01mis\u001b[39;00m \u001b[38;5;28;01mNone\u001b[39;00m:\n\u001b[32m-> \u001b[39m\u001b[32m1149\u001b[39m     \u001b[38;5;28;43mself\u001b[39;49m\u001b[43m.\u001b[49m\u001b[43m_wait_for_tstate_lock\u001b[49m\u001b[43m(\u001b[49m\u001b[43m)\u001b[49m\n\u001b[32m   1150\u001b[39m \u001b[38;5;28;01melse\u001b[39;00m:\n\u001b[32m   1151\u001b[39m     \u001b[38;5;66;03m# the behavior of a negative timeout isn't documented, but\u001b[39;00m\n\u001b[32m   1152\u001b[39m     \u001b[38;5;66;03m# historically .join(timeout=x) for x<0 has acted as if timeout=0\u001b[39;00m\n\u001b[32m   1153\u001b[39m     \u001b[38;5;28mself\u001b[39m._wait_for_tstate_lock(timeout=\u001b[38;5;28mmax\u001b[39m(timeout, \u001b[32m0\u001b[39m))\n",
      "\u001b[36mFile \u001b[39m\u001b[32mc:\\Users\\matej\\miniconda3\\envs\\MLDS_HW1\\Lib\\threading.py:1169\u001b[39m, in \u001b[36mThread._wait_for_tstate_lock\u001b[39m\u001b[34m(self, block, timeout)\u001b[39m\n\u001b[32m   1166\u001b[39m     \u001b[38;5;28;01mreturn\u001b[39;00m\n\u001b[32m   1168\u001b[39m \u001b[38;5;28;01mtry\u001b[39;00m:\n\u001b[32m-> \u001b[39m\u001b[32m1169\u001b[39m     \u001b[38;5;28;01mif\u001b[39;00m \u001b[43mlock\u001b[49m\u001b[43m.\u001b[49m\u001b[43macquire\u001b[49m\u001b[43m(\u001b[49m\u001b[43mblock\u001b[49m\u001b[43m,\u001b[49m\u001b[43m \u001b[49m\u001b[43mtimeout\u001b[49m\u001b[43m)\u001b[49m:\n\u001b[32m   1170\u001b[39m         lock.release()\n\u001b[32m   1171\u001b[39m         \u001b[38;5;28mself\u001b[39m._stop()\n",
      "\u001b[31mKeyboardInterrupt\u001b[39m: "
     ]
    }
   ],
   "source": [
    "v1 = np.array([0.0, 0.0, 0.0])\n",
    "v2 = np.array([1.0, 0.0, 0.0])\n",
    "v3 = np.array([0.0, 1.0, 0.0])\n",
    "v4 = np.array([0.0, 0.0, 1.0])\n",
    "\n",
    "nelder_mead_3d(v1, v2, v3, v4, blackbox1)   "
   ]
  }
 ],
 "metadata": {
  "kernelspec": {
   "display_name": "MLDS_HW1",
   "language": "python",
   "name": "python3"
  },
  "language_info": {
   "codemirror_mode": {
    "name": "ipython",
    "version": 3
   },
   "file_extension": ".py",
   "mimetype": "text/x-python",
   "name": "python",
   "nbconvert_exporter": "python",
   "pygments_lexer": "ipython3",
   "version": "3.12.9"
  }
 },
 "nbformat": 4,
 "nbformat_minor": 5
}
